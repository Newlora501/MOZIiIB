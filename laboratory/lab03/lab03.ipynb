{
 "cells": [
  {
   "cell_type": "markdown",
   "id": "beefe068-0e83-45d9-b6e9-2febac6c57ff",
   "metadata": {},
   "source": [
    "## ЛАБОРАТОРНАЯ РАБОТА №3\n",
    "### Шифрование гаммированием"
   ]
  },
  {
   "cell_type": "code",
   "execution_count": 34,
   "id": "7255b55b-7a9e-4f9d-a7a3-7425c6cb04ed",
   "metadata": {},
   "outputs": [],
   "source": [
    "import numpy as np"
   ]
  },
  {
   "cell_type": "code",
   "execution_count": 46,
   "id": "8164b4c8-5c41-44b2-8ee2-079279155481",
   "metadata": {},
   "outputs": [],
   "source": [
    "def alphavit(choice):\n",
    "    if choice == 'eng':\n",
    "        return list(map(chr,range(ord('a'), ord('z')+1)))\n",
    "    elif choice == 'rus':\n",
    "        return list(map(chr,range(ord('а'), ord('я')+1)))\n",
    "    else : \n",
    "        print('Выбирайте eng или rus')"
   ]
  },
  {
   "cell_type": "code",
   "execution_count": 90,
   "id": "05b73b82-9a22-4f05-ba21-cc6fa11dc2ae",
   "metadata": {},
   "outputs": [],
   "source": [
    "def encrypt_gamma(sms:str, gamma: str):\n",
    "    alphav = alphavit('eng')\n",
    "    if sms.lower() not in alphav :\n",
    "        alphav = alphavit('rus')\n",
    "    print(alphav)\n",
    "    mes = len(alphav)\n",
    "    def encrypt(letters: tuple):\n",
    "        idx = (letters[0]+1)+(letters[1]+1)%mes\n",
    "        if idx > mes:\n",
    "           idx = idx - mes\n",
    "        return idx-1\n",
    "    sms_clear = list(filter (lambda s : s.lower() in alphav, sms))\n",
    "    gamma_clear = list(filter (lambda s : s.lower() in alphav, gamma))\n",
    "    \n",
    "    sms_ind = list(map(lambda s : alphav.index(s.lower()), sms_clear))\n",
    "    gamma_ind = list(map(lambda s : alphav.index(s.lower()), gamma_clear))\n",
    "    for i in range(len(sms_ind)-len(gamma_ind)):\n",
    "        gamma_ind.append(gamma_ind[i])\n",
    "    print(f'{sms.upper()} -> {sms_ind}\\n{gamma.upper()} -> {gamma_ind}')\n",
    "    encrypted_ind = list(map(lambda s : encrypt(s), zip(sms_ind, gamma_ind)))\n",
    "    print(f'encrypted form : {encrypted_ind}\\n')\n",
    "    return ''.join(list(map(lambda s: alphav[s], encrypted_ind))).upper()"
   ]
  },
  {
   "cell_type": "code",
   "execution_count": 92,
   "id": "80a39f42-8b87-4200-9ea4-ce1817748d13",
   "metadata": {},
   "outputs": [],
   "source": [
    "def encrypt_test(sms :str, gamma: str):\n",
    "     print(f'Криптограмма: {encrypt_gamma(sms, gamma)}')"
   ]
  },
  {
   "cell_type": "code",
   "execution_count": 94,
   "id": "40961a59-d5ce-4dbd-a419-79bb35400e88",
   "metadata": {},
   "outputs": [
    {
     "name": "stdout",
     "output_type": "stream",
     "text": [
      "['а', 'б', 'в', 'г', 'д', 'е', 'ж', 'з', 'и', 'й', 'к', 'л', 'м', 'н', 'о', 'п', 'р', 'с', 'т', 'у', 'ф', 'х', 'ц', 'ч', 'ш', 'щ', 'ъ', 'ы', 'ь', 'э', 'ю', 'я']\n",
      "ПРИКАЗ -> [15, 16, 8, 10, 0, 7]\n",
      "ГАММА -> [3, 0, 12, 12, 0, 3]\n",
      "encrypted form : [19, 17, 21, 23, 1, 11]\n",
      "\n",
      "Криптограмма: УСХЧБЛ\n"
     ]
    }
   ],
   "source": [
    "sms = 'ПРИКАЗ'\n",
    "gamma = 'гамма'\n",
    "encrypt_test(sms, gamma)"
   ]
  },
  {
   "cell_type": "code",
   "execution_count": 96,
   "id": "37168e50-7fdf-46d5-ace2-3964c212b86a",
   "metadata": {},
   "outputs": [
    {
     "name": "stdout",
     "output_type": "stream",
     "text": [
      "['а', 'б', 'в', 'г', 'д', 'е', 'ж', 'з', 'и', 'й', 'к', 'л', 'м', 'н', 'о', 'п', 'р', 'с', 'т', 'у', 'ф', 'х', 'ц', 'ч', 'ш', 'щ', 'ъ', 'ы', 'ь', 'э', 'ю', 'я']\n",
      "МЕНЯ ЗОВУТ ЛОРА -> [12, 5, 13, 31, 7, 14, 2, 19, 18, 11, 14, 16, 0]\n",
      "ГАММА -> [3, 0, 12, 12, 0, 3, 0, 12, 12, 0, 3, 0, 12]\n",
      "encrypted form : [16, 6, 26, 12, 8, 18, 3, 0, 31, 12, 18, 17, 13]\n",
      "\n",
      "Криптограмма: РЖЪМИТГАЯМТСН\n"
     ]
    }
   ],
   "source": [
    "sms = 'МЕНЯ ЗОВУТ ЛОРА'\n",
    "gamma = 'гамма'\n",
    "encrypt_test(sms, gamma)"
   ]
  },
  {
   "cell_type": "code",
   "execution_count": null,
   "id": "23a646aa-5621-47b3-a637-8e016752c4a6",
   "metadata": {},
   "outputs": [],
   "source": []
  }
 ],
 "metadata": {
  "kernelspec": {
   "display_name": "Python [conda env:base] *",
   "language": "python",
   "name": "conda-base-py"
  },
  "language_info": {
   "codemirror_mode": {
    "name": "ipython",
    "version": 3
   },
   "file_extension": ".py",
   "mimetype": "text/x-python",
   "name": "python",
   "nbconvert_exporter": "python",
   "pygments_lexer": "ipython3",
   "version": "3.12.7"
  }
 },
 "nbformat": 4,
 "nbformat_minor": 5
}
