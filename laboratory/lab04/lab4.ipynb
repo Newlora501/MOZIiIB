{
 "cells": [
  {
   "cell_type": "code",
   "execution_count": 6,
   "id": "6f2a261b",
   "metadata": {},
   "outputs": [],
   "source": [
    "def algo_euvclida(a,b):\n",
    "    r0, r1 =a, b\n",
    "    i = 1\n",
    "    while True :\n",
    "        ri_plus_1 = r0 % r1\n",
    "        if ri_plus_1 == 0:\n",
    "         return r1\n",
    "        r0, r1 = r1, ri_plus_1\n",
    "        i = i+1"
   ]
  },
  {
   "cell_type": "code",
   "execution_count": 7,
   "id": "ddc6644c",
   "metadata": {},
   "outputs": [
    {
     "data": {
      "text/plain": [
       "12345"
      ]
     },
     "execution_count": 7,
     "metadata": {},
     "output_type": "execute_result"
    }
   ],
   "source": [
    "algo_euvclida(12345, 24690)"
   ]
  },
  {
   "cell_type": "code",
   "execution_count": 10,
   "id": "d352f5b3",
   "metadata": {},
   "outputs": [],
   "source": [
    "def binar_algo_euvclida(a,b):\n",
    "    g=1\n",
    "    while a%2 == 0 and b%2 == 0:\n",
    "        a = a // 2\n",
    "        b = b // 2\n",
    "        g *= 2\n",
    "    u, v = a, b\n",
    "\n",
    "    while u != 0:\n",
    "        while u % 2 == 0:\n",
    "            u = u // 2\n",
    "        while v % 2 == 0:\n",
    "            v = v // 2\n",
    "        if u >= v:\n",
    "            u = u - v\n",
    "        else :\n",
    "            v = v-u\n",
    "    d =g*v\n",
    "    return d    "
   ]
  },
  {
   "cell_type": "code",
   "execution_count": null,
   "id": "49ff3bee",
   "metadata": {},
   "outputs": [
    {
     "data": {
      "text/plain": [
       "12345"
      ]
     },
     "execution_count": 11,
     "metadata": {},
     "output_type": "execute_result"
    }
   ],
   "source": [
    "binar_algo_euvclida(12345, 24690)"
   ]
  },
  {
   "cell_type": "code",
   "execution_count": 12,
   "id": "c257ec72",
   "metadata": {},
   "outputs": [
    {
     "data": {
      "text/plain": [
       "3"
      ]
     },
     "execution_count": 12,
     "metadata": {},
     "output_type": "execute_result"
    }
   ],
   "source": [
    "binar_algo_euvclida(12345, 54321)"
   ]
  },
  {
   "cell_type": "code",
   "execution_count": 19,
   "id": "4920c529",
   "metadata": {},
   "outputs": [],
   "source": [
    "def raschi_algo_euvclida(a,b):\n",
    "    r0, r1 = a, b\n",
    "    x0, x1 = 1, 0\n",
    "    y0, y1 = 0, 1\n",
    "    i = 1\n",
    "    while True: \n",
    "        qi = r0 // r1\n",
    "        ri_plus_1 = r0 % r1\n",
    "        if ri_plus_1 == 0:\n",
    "            d = r1\n",
    "            x = x1\n",
    "            y = y1\n",
    "            return d, x, y\n",
    "        xi_plus_1 = x0 - qi * x1\n",
    "        yi_plus_1 = y0 - qi * y1\n",
    "\n",
    "        r0, r1 = r1, ri_plus_1\n",
    "        x0, x1 = x1, xi_plus_1\n",
    "        y0, y1 = y1, yi_plus_1\n",
    "        i += 1"
   ]
  },
  {
   "cell_type": "code",
   "execution_count": 20,
   "id": "19ecf3fd",
   "metadata": {},
   "outputs": [
    {
     "data": {
      "text/plain": [
       "(12345, 1, 0)"
      ]
     },
     "execution_count": 20,
     "metadata": {},
     "output_type": "execute_result"
    }
   ],
   "source": [
    "raschi_algo_euvclida(12345, 24690)"
   ]
  },
  {
   "cell_type": "code",
   "execution_count": 21,
   "id": "a8dc1975",
   "metadata": {},
   "outputs": [
    {
     "data": {
      "text/plain": [
       "(3, 3617, -822)"
      ]
     },
     "execution_count": 21,
     "metadata": {},
     "output_type": "execute_result"
    }
   ],
   "source": [
    "raschi_algo_euvclida(12345, 54321)"
   ]
  },
  {
   "cell_type": "code",
   "execution_count": 22,
   "id": "161ebede",
   "metadata": {},
   "outputs": [],
   "source": [
    "def raschi_binar_algo_euvclida(a,b):\n",
    "    original_a , original_b = a, b\n",
    "    g=1\n",
    "    while a%2 == 0 and b%2 == 0:\n",
    "        a = a // 2\n",
    "        b = b // 2\n",
    "        g *= 2\n",
    "    u, v = a, b\n",
    "    A, B, C, D = 1, 0, 0, 1\n",
    "\n",
    "    while u != 0:\n",
    "        while u % 2 == 0:\n",
    "            u = u // 2\n",
    "            if A % 2 == 0 and B % 2 == 0:\n",
    "                A = A // 2\n",
    "                B = B // 2\n",
    "            else :\n",
    "                 A = (A + original_b) // 2\n",
    "                 B = (B - original_a) // 2\n",
    "        while v % 2 == 0:\n",
    "            v = v // 2\n",
    "            if C % 2 == 0 and D % 2 == 0:\n",
    "                C = C // 2\n",
    "                D = D // 2\n",
    "            else:\n",
    "                C = (C + original_b) // 2\n",
    "                D = (D - original_a) // 2\n",
    "        if u >= v:\n",
    "            u = u - v\n",
    "            A = A - C\n",
    "            B = B - D\n",
    "        else :\n",
    "            v = v-u\n",
    "            C = C - A\n",
    "            D = D - B\n",
    "    d =g*v\n",
    "    x, y = C, D\n",
    "    return d , x, y"
   ]
  },
  {
   "cell_type": "code",
   "execution_count": 23,
   "id": "011fd9f4",
   "metadata": {},
   "outputs": [
    {
     "data": {
      "text/plain": [
       "(12345, 12345, -6172)"
      ]
     },
     "execution_count": 23,
     "metadata": {},
     "output_type": "execute_result"
    }
   ],
   "source": [
    "raschi_binar_algo_euvclida(12345, 24690)"
   ]
  },
  {
   "cell_type": "code",
   "execution_count": 24,
   "id": "2903656d",
   "metadata": {},
   "outputs": [
    {
     "data": {
      "text/plain": [
       "(3, -14490, 3293)"
      ]
     },
     "execution_count": 24,
     "metadata": {},
     "output_type": "execute_result"
    }
   ],
   "source": [
    "raschi_binar_algo_euvclida(12345, 54321)"
   ]
  },
  {
   "cell_type": "code",
   "execution_count": 25,
   "id": "5f580dfb",
   "metadata": {},
   "outputs": [
    {
     "data": {
      "text/plain": [
       "(1, 4159, -4094)"
      ]
     },
     "execution_count": 25,
     "metadata": {},
     "output_type": "execute_result"
    }
   ],
   "source": [
    "raschi_binar_algo_euvclida(12345, 12541)"
   ]
  }
 ],
 "metadata": {
  "kernelspec": {
   "display_name": "base",
   "language": "python",
   "name": "python3"
  },
  "language_info": {
   "codemirror_mode": {
    "name": "ipython",
    "version": 3
   },
   "file_extension": ".py",
   "mimetype": "text/x-python",
   "name": "python",
   "nbconvert_exporter": "python",
   "pygments_lexer": "ipython3",
   "version": "3.12.7"
  }
 },
 "nbformat": 4,
 "nbformat_minor": 5
}
